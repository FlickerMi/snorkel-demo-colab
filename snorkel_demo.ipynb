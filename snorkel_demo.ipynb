{
  "nbformat": 4,
  "nbformat_minor": 0,
  "metadata": {
    "colab": {
      "name": "snorkel-demo.ipynb",
      "version": "0.3.2",
      "provenance": [],
      "collapsed_sections": [],
      "toc_visible": true,
      "include_colab_link": true
    },
    "kernelspec": {
      "name": "python3",
      "display_name": "Python 3"
    },
    "accelerator": "GPU"
  },
  "cells": [
    {
      "cell_type": "markdown",
      "metadata": {
        "id": "view-in-github",
        "colab_type": "text"
      },
      "source": [
        "<a href=\"https://colab.research.google.com/github/fastforwardlabs/snorkel-demo-colab/blob/master/snorkel_demo.ipynb\" target=\"_parent\"><img src=\"https://colab.research.google.com/assets/colab-badge.svg\" alt=\"Open In Colab\"/></a>"
      ]
    },
    {
      "cell_type": "markdown",
      "metadata": {
        "id": "O2hgkWoEUODX",
        "colab_type": "text"
      },
      "source": [
        "# Training a text classification model using noisy regular expressions\n",
        "\n",
        "In this notebook we will walk through a simple text classification problem that trains a complaint classifier using data from [Consumer Financial Protection Bureau](https://www.consumerfinance.gov/data-research/consumer-complaints/), showing how to use Snorkel for weak supervision."
      ]
    },
    {
      "cell_type": "markdown",
      "metadata": {
        "id": "xaf5CrXPsVOI",
        "colab_type": "text"
      },
      "source": [
        "## Setup"
      ]
    },
    {
      "cell_type": "markdown",
      "metadata": {
        "id": "n13vH4IdX2N5",
        "colab_type": "text"
      },
      "source": [
        "Installing Snorkel and other required libraries"
      ]
    },
    {
      "cell_type": "code",
      "metadata": {
        "id": "8pSRMoLQX-Mj",
        "colab_type": "code",
        "colab": {
          "base_uri": "https://localhost:8080/",
          "height": 204
        },
        "outputId": "c472da35-6166-4ecc-c59a-31c873ed695a"
      },
      "source": [
        "!wget https://raw.githubusercontent.com/fastforwardlabs/snorkel-demo-colab/master/requirements.txt"
      ],
      "execution_count": 1,
      "outputs": [
        {
          "output_type": "stream",
          "text": [
            "--2019-07-09 15:35:42--  https://raw.githubusercontent.com/fastforwardlabs/snorkel-demo-colab/master/requirements.txt\n",
            "Resolving raw.githubusercontent.com (raw.githubusercontent.com)... 151.101.0.133, 151.101.64.133, 151.101.128.133, ...\n",
            "Connecting to raw.githubusercontent.com (raw.githubusercontent.com)|151.101.0.133|:443... connected.\n",
            "HTTP request sent, awaiting response... 200 OK\n",
            "Length: 281 [text/plain]\n",
            "Saving to: ‘requirements.txt’\n",
            "\n",
            "\rrequirements.txt      0%[                    ]       0  --.-KB/s               \rrequirements.txt    100%[===================>]     281  --.-KB/s    in 0s      \n",
            "\n",
            "2019-07-09 15:35:43 (42.4 MB/s) - ‘requirements.txt’ saved [281/281]\n",
            "\n"
          ],
          "name": "stdout"
        }
      ]
    },
    {
      "cell_type": "code",
      "metadata": {
        "id": "Q40cmhf21u79",
        "colab_type": "code",
        "outputId": "a6a41761-6cee-402e-a992-c53c4186186c",
        "colab": {
          "base_uri": "https://localhost:8080/",
          "height": 1000
        }
      },
      "source": [
        "!pip3 install -r requirements.txt\n",
        "!pip3 install git+https://github.com/nishamuktewar/snorkel\n",
        "!pip3 install treedlib\n",
        "!pip3 install numbskull"
      ],
      "execution_count": 0,
      "outputs": [
        {
          "output_type": "stream",
          "text": [
            "Requirement already satisfied: beautifulsoup4==4.7.1 in /usr/local/lib/python3.6/dist-packages (from -r requirements.txt (line 1)) (4.7.1)\n",
            "Requirement already satisfied: future==0.17.1 in /usr/local/lib/python3.6/dist-packages (from -r requirements.txt (line 2)) (0.17.1)\n",
            "Requirement already satisfied: ipywidgets==7.4.2 in /usr/local/lib/python3.6/dist-packages (from -r requirements.txt (line 3)) (7.4.2)\n",
            "Requirement already satisfied: jupyter==1.0.0 in /usr/local/lib/python3.6/dist-packages (from -r requirements.txt (line 4)) (1.0.0)\n",
            "Requirement already satisfied: lxml==4.3.3 in /usr/local/lib/python3.6/dist-packages (from -r requirements.txt (line 5)) (4.3.3)\n",
            "Requirement already satisfied: matplotlib==3.0.1 in /usr/local/lib/python3.6/dist-packages (from -r requirements.txt (line 6)) (3.0.1)\n",
            "Requirement already satisfied: nltk==3.2.5 in /usr/local/lib/python3.6/dist-packages (from -r requirements.txt (line 7)) (3.2.5)\n",
            "Requirement already satisfied: numba==0.43.1 in /usr/local/lib/python3.6/dist-packages (from -r requirements.txt (line 8)) (0.43.1)\n",
            "Requirement already satisfied: numpy==1.16.1 in /usr/local/lib/python3.6/dist-packages (from -r requirements.txt (line 9)) (1.16.1)\n",
            "Requirement already satisfied: pandas==0.24.2 in /usr/local/lib/python3.6/dist-packages (from -r requirements.txt (line 10)) (0.24.2)\n",
            "Requirement already satisfied: py4j==0.10.8.1 in /usr/local/lib/python3.6/dist-packages (from -r requirements.txt (line 11)) (0.10.8.1)\n",
            "Requirement already satisfied: requests==2.22.0 in /usr/local/lib/python3.6/dist-packages (from -r requirements.txt (line 12)) (2.22.0)\n",
            "Requirement already satisfied: runipy==0.1.5 in /usr/local/lib/python3.6/dist-packages (from -r requirements.txt (line 13)) (0.1.5)\n",
            "Requirement already satisfied: scipy==1.2.1 in /usr/local/lib/python3.6/dist-packages (from -r requirements.txt (line 14)) (1.2.1)\n",
            "Requirement already satisfied: six==1.12.0 in /usr/local/lib/python3.6/dist-packages (from -r requirements.txt (line 15)) (1.12.0)\n",
            "Requirement already satisfied: spacy in /usr/local/lib/python3.6/dist-packages (from -r requirements.txt (line 16)) (2.1.4)\n",
            "Requirement already satisfied: sqlalchemy==1.3.3 in /usr/local/lib/python3.6/dist-packages (from -r requirements.txt (line 17)) (1.3.3)\n",
            "Requirement already satisfied: tika==1.19 in /usr/local/lib/python3.6/dist-packages (from -r requirements.txt (line 18)) (1.19)\n",
            "Requirement already satisfied: tqdm==4.32.1 in /usr/local/lib/python3.6/dist-packages (from -r requirements.txt (line 19)) (4.32.1)\n",
            "Requirement already satisfied: sklearn in /usr/local/lib/python3.6/dist-packages (from -r requirements.txt (line 20)) (0.0)\n",
            "Requirement already satisfied: soupsieve>=1.2 in /usr/local/lib/python3.6/dist-packages (from beautifulsoup4==4.7.1->-r requirements.txt (line 1)) (1.9.2)\n",
            "Requirement already satisfied: traitlets>=4.3.1 in /usr/local/lib/python3.6/dist-packages (from ipywidgets==7.4.2->-r requirements.txt (line 3)) (4.3.2)\n",
            "Requirement already satisfied: widgetsnbextension~=3.4.0 in /usr/local/lib/python3.6/dist-packages (from ipywidgets==7.4.2->-r requirements.txt (line 3)) (3.4.2)\n",
            "Requirement already satisfied: ipython>=4.0.0; python_version >= \"3.3\" in /usr/local/lib/python3.6/dist-packages (from ipywidgets==7.4.2->-r requirements.txt (line 3)) (5.5.0)\n",
            "Requirement already satisfied: ipykernel>=4.5.1 in /usr/local/lib/python3.6/dist-packages (from ipywidgets==7.4.2->-r requirements.txt (line 3)) (4.6.1)\n",
            "Requirement already satisfied: nbformat>=4.2.0 in /usr/local/lib/python3.6/dist-packages (from ipywidgets==7.4.2->-r requirements.txt (line 3)) (4.4.0)\n",
            "Requirement already satisfied: qtconsole in /usr/local/lib/python3.6/dist-packages (from jupyter==1.0.0->-r requirements.txt (line 4)) (4.5.1)\n",
            "Requirement already satisfied: nbconvert in /usr/local/lib/python3.6/dist-packages (from jupyter==1.0.0->-r requirements.txt (line 4)) (5.5.0)\n",
            "Requirement already satisfied: jupyter-console in /usr/local/lib/python3.6/dist-packages (from jupyter==1.0.0->-r requirements.txt (line 4)) (6.0.0)\n",
            "Requirement already satisfied: notebook in /usr/local/lib/python3.6/dist-packages (from jupyter==1.0.0->-r requirements.txt (line 4)) (5.2.2)\n",
            "Requirement already satisfied: kiwisolver>=1.0.1 in /usr/local/lib/python3.6/dist-packages (from matplotlib==3.0.1->-r requirements.txt (line 6)) (1.1.0)\n",
            "Requirement already satisfied: pyparsing!=2.0.4,!=2.1.2,!=2.1.6,>=2.0.1 in /usr/local/lib/python3.6/dist-packages (from matplotlib==3.0.1->-r requirements.txt (line 6)) (2.4.0)\n",
            "Requirement already satisfied: cycler>=0.10 in /usr/local/lib/python3.6/dist-packages (from matplotlib==3.0.1->-r requirements.txt (line 6)) (0.10.0)\n",
            "Requirement already satisfied: python-dateutil>=2.1 in /usr/local/lib/python3.6/dist-packages (from matplotlib==3.0.1->-r requirements.txt (line 6)) (2.5.3)\n",
            "Requirement already satisfied: llvmlite>=0.28.0dev0 in /usr/local/lib/python3.6/dist-packages (from numba==0.43.1->-r requirements.txt (line 8)) (0.29.0)\n",
            "Requirement already satisfied: pytz>=2011k in /usr/local/lib/python3.6/dist-packages (from pandas==0.24.2->-r requirements.txt (line 10)) (2018.9)\n",
            "Requirement already satisfied: chardet<3.1.0,>=3.0.2 in /usr/local/lib/python3.6/dist-packages (from requests==2.22.0->-r requirements.txt (line 12)) (3.0.4)\n",
            "Requirement already satisfied: certifi>=2017.4.17 in /usr/local/lib/python3.6/dist-packages (from requests==2.22.0->-r requirements.txt (line 12)) (2019.6.16)\n",
            "Requirement already satisfied: urllib3!=1.25.0,!=1.25.1,<1.26,>=1.21.1 in /usr/local/lib/python3.6/dist-packages (from requests==2.22.0->-r requirements.txt (line 12)) (1.24.3)\n",
            "Requirement already satisfied: idna<2.9,>=2.5 in /usr/local/lib/python3.6/dist-packages (from requests==2.22.0->-r requirements.txt (line 12)) (2.8)\n",
            "Requirement already satisfied: Jinja2>=2.7.2 in /usr/local/lib/python3.6/dist-packages (from runipy==0.1.5->-r requirements.txt (line 13)) (2.10.1)\n",
            "Requirement already satisfied: Pygments>=1.6 in /usr/local/lib/python3.6/dist-packages (from runipy==0.1.5->-r requirements.txt (line 13)) (2.1.3)\n",
            "Requirement already satisfied: pyzmq>=14.1.0 in /usr/local/lib/python3.6/dist-packages (from runipy==0.1.5->-r requirements.txt (line 13)) (17.0.0)\n",
            "Requirement already satisfied: wasabi<1.1.0,>=0.2.0 in /usr/local/lib/python3.6/dist-packages (from spacy->-r requirements.txt (line 16)) (0.2.2)\n",
            "Requirement already satisfied: blis<0.3.0,>=0.2.2 in /usr/local/lib/python3.6/dist-packages (from spacy->-r requirements.txt (line 16)) (0.2.4)\n",
            "Requirement already satisfied: plac<1.0.0,>=0.9.6 in /usr/local/lib/python3.6/dist-packages (from spacy->-r requirements.txt (line 16)) (0.9.6)\n",
            "Requirement already satisfied: jsonschema<3.1.0,>=2.6.0 in /usr/local/lib/python3.6/dist-packages (from spacy->-r requirements.txt (line 16)) (2.6.0)\n",
            "Requirement already satisfied: cymem<2.1.0,>=2.0.2 in /usr/local/lib/python3.6/dist-packages (from spacy->-r requirements.txt (line 16)) (2.0.2)\n",
            "Requirement already satisfied: srsly<1.1.0,>=0.0.5 in /usr/local/lib/python3.6/dist-packages (from spacy->-r requirements.txt (line 16)) (0.0.7)\n",
            "Requirement already satisfied: thinc<7.1.0,>=7.0.2 in /usr/local/lib/python3.6/dist-packages (from spacy->-r requirements.txt (line 16)) (7.0.4)\n",
            "Requirement already satisfied: preshed<2.1.0,>=2.0.1 in /usr/local/lib/python3.6/dist-packages (from spacy->-r requirements.txt (line 16)) (2.0.1)\n",
            "Requirement already satisfied: murmurhash<1.1.0,>=0.28.0 in /usr/local/lib/python3.6/dist-packages (from spacy->-r requirements.txt (line 16)) (1.0.2)\n",
            "Requirement already satisfied: setuptools in /usr/local/lib/python3.6/dist-packages (from tika==1.19->-r requirements.txt (line 18)) (41.0.1)\n",
            "Requirement already satisfied: scikit-learn in /usr/local/lib/python3.6/dist-packages (from sklearn->-r requirements.txt (line 20)) (0.21.2)\n",
            "Requirement already satisfied: decorator in /usr/local/lib/python3.6/dist-packages (from traitlets>=4.3.1->ipywidgets==7.4.2->-r requirements.txt (line 3)) (4.4.0)\n",
            "Requirement already satisfied: ipython-genutils in /usr/local/lib/python3.6/dist-packages (from traitlets>=4.3.1->ipywidgets==7.4.2->-r requirements.txt (line 3)) (0.2.0)\n",
            "Requirement already satisfied: prompt-toolkit<2.0.0,>=1.0.4 in /usr/local/lib/python3.6/dist-packages (from ipython>=4.0.0; python_version >= \"3.3\"->ipywidgets==7.4.2->-r requirements.txt (line 3)) (1.0.16)\n",
            "Requirement already satisfied: pexpect; sys_platform != \"win32\" in /usr/local/lib/python3.6/dist-packages (from ipython>=4.0.0; python_version >= \"3.3\"->ipywidgets==7.4.2->-r requirements.txt (line 3)) (4.7.0)\n",
            "Requirement already satisfied: pickleshare in /usr/local/lib/python3.6/dist-packages (from ipython>=4.0.0; python_version >= \"3.3\"->ipywidgets==7.4.2->-r requirements.txt (line 3)) (0.7.5)\n",
            "Requirement already satisfied: simplegeneric>0.8 in /usr/local/lib/python3.6/dist-packages (from ipython>=4.0.0; python_version >= \"3.3\"->ipywidgets==7.4.2->-r requirements.txt (line 3)) (0.8.1)\n",
            "Requirement already satisfied: tornado>=4.0 in /usr/local/lib/python3.6/dist-packages (from ipykernel>=4.5.1->ipywidgets==7.4.2->-r requirements.txt (line 3)) (4.5.3)\n",
            "Requirement already satisfied: jupyter-client in /usr/local/lib/python3.6/dist-packages (from ipykernel>=4.5.1->ipywidgets==7.4.2->-r requirements.txt (line 3)) (5.2.4)\n",
            "Requirement already satisfied: jupyter-core in /usr/local/lib/python3.6/dist-packages (from nbformat>=4.2.0->ipywidgets==7.4.2->-r requirements.txt (line 3)) (4.5.0)\n",
            "Requirement already satisfied: pandocfilters>=1.4.1 in /usr/local/lib/python3.6/dist-packages (from nbconvert->jupyter==1.0.0->-r requirements.txt (line 4)) (1.4.2)\n",
            "Requirement already satisfied: bleach in /usr/local/lib/python3.6/dist-packages (from nbconvert->jupyter==1.0.0->-r requirements.txt (line 4)) (3.1.0)\n",
            "Requirement already satisfied: testpath in /usr/local/lib/python3.6/dist-packages (from nbconvert->jupyter==1.0.0->-r requirements.txt (line 4)) (0.4.2)\n",
            "Requirement already satisfied: defusedxml in /usr/local/lib/python3.6/dist-packages (from nbconvert->jupyter==1.0.0->-r requirements.txt (line 4)) (0.6.0)\n",
            "Requirement already satisfied: entrypoints>=0.2.2 in /usr/local/lib/python3.6/dist-packages (from nbconvert->jupyter==1.0.0->-r requirements.txt (line 4)) (0.3)\n",
            "Requirement already satisfied: mistune>=0.8.1 in /usr/local/lib/python3.6/dist-packages (from nbconvert->jupyter==1.0.0->-r requirements.txt (line 4)) (0.8.4)\n",
            "Requirement already satisfied: terminado>=0.3.3; sys_platform != \"win32\" in /usr/local/lib/python3.6/dist-packages (from notebook->jupyter==1.0.0->-r requirements.txt (line 4)) (0.8.2)\n",
            "Requirement already satisfied: MarkupSafe>=0.23 in /usr/local/lib/python3.6/dist-packages (from Jinja2>=2.7.2->runipy==0.1.5->-r requirements.txt (line 13)) (1.1.1)\n",
            "Requirement already satisfied: joblib>=0.11 in /usr/local/lib/python3.6/dist-packages (from scikit-learn->sklearn->-r requirements.txt (line 20)) (0.13.2)\n",
            "Requirement already satisfied: wcwidth in /usr/local/lib/python3.6/dist-packages (from prompt-toolkit<2.0.0,>=1.0.4->ipython>=4.0.0; python_version >= \"3.3\"->ipywidgets==7.4.2->-r requirements.txt (line 3)) (0.1.7)\n",
            "Requirement already satisfied: ptyprocess>=0.5 in /usr/local/lib/python3.6/dist-packages (from pexpect; sys_platform != \"win32\"->ipython>=4.0.0; python_version >= \"3.3\"->ipywidgets==7.4.2->-r requirements.txt (line 3)) (0.6.0)\n",
            "Requirement already satisfied: webencodings in /usr/local/lib/python3.6/dist-packages (from bleach->nbconvert->jupyter==1.0.0->-r requirements.txt (line 4)) (0.5.1)\n",
            "Collecting git+https://github.com/nishamuktewar/snorkel\n",
            "  Cloning https://github.com/nishamuktewar/snorkel to /tmp/pip-req-build-hd28z60i\n",
            "  Running command git clone -q https://github.com/nishamuktewar/snorkel /tmp/pip-req-build-hd28z60i\n",
            "Requirement already satisfied (use --upgrade to upgrade): snorkel==0.7.0b0 from git+https://github.com/nishamuktewar/snorkel in /usr/local/lib/python3.6/dist-packages\n",
            "Building wheels for collected packages: snorkel\n",
            "  Building wheel for snorkel (setup.py) ... \u001b[?25l\u001b[?25hdone\n",
            "  Stored in directory: /tmp/pip-ephem-wheel-cache-shs66_6u/wheels/1c/dc/7b/9cf55b0576fad8e74e4e4c004231d1fd2814b01915d5582ba2\n",
            "Successfully built snorkel\n",
            "Requirement already satisfied: treedlib in /usr/local/lib/python3.6/dist-packages (0.1.1)\n",
            "Requirement already satisfied: lxml in /usr/local/lib/python3.6/dist-packages (from treedlib) (4.3.3)\n",
            "Requirement already satisfied: numbskull in /usr/local/lib/python3.6/dist-packages (0.1.1)\n",
            "Requirement already satisfied: future in /usr/local/lib/python3.6/dist-packages (from numbskull) (0.17.1)\n"
          ],
          "name": "stdout"
        }
      ]
    },
    {
      "cell_type": "code",
      "metadata": {
        "id": "pyPnpQ6t1-D-",
        "colab_type": "code",
        "colab": {}
      },
      "source": [
        "%load_ext autoreload\n",
        "%autoreload 2"
      ],
      "execution_count": 0,
      "outputs": []
    },
    {
      "cell_type": "markdown",
      "metadata": {
        "id": "BNCpKXv1uwfz",
        "colab_type": "text"
      },
      "source": [
        "Disabling warning messages"
      ]
    },
    {
      "cell_type": "code",
      "metadata": {
        "id": "Tf-MTJzpuTpl",
        "colab_type": "code",
        "colab": {}
      },
      "source": [
        "import logging\n",
        "logging.getLogger('tensorflow').setLevel(logging.ERROR)\n",
        "import tensorflow as tf\n",
        "tf.logging.set_verbosity(tf.logging.ERROR)"
      ],
      "execution_count": 0,
      "outputs": []
    },
    {
      "cell_type": "markdown",
      "metadata": {
        "id": "ongFEcu9YhSC",
        "colab_type": "text"
      },
      "source": [
        "Loading necessary libraries"
      ]
    },
    {
      "cell_type": "code",
      "metadata": {
        "id": "EnphVByC2D4w",
        "colab_type": "code",
        "colab": {}
      },
      "source": [
        "import pandas as pd\n",
        "import numpy as np\n",
        "import matplotlib.pyplot as plt\n",
        "import re\n",
        "import sklearn\n",
        "import os\n",
        "\n",
        "from sklearn.model_selection import train_test_split\n",
        "from collections import Counter\n",
        "from snorkel import SnorkelSession\n",
        "from snorkel.models import candidate_subclass, Context, Candidate, StableLabel\n",
        "from snorkel.contrib.models.text import RawText\n",
        "from snorkel.annotations import LabelAnnotator\n",
        "from snorkel.learning import GenerativeModel\n",
        "from snorkel.annotations import save_marginals\n",
        "from snorkel.learning.tensorflow import TextRNN"
      ],
      "execution_count": 0,
      "outputs": []
    },
    {
      "cell_type": "markdown",
      "metadata": {
        "id": "x2zUynbBUfV0",
        "colab_type": "text"
      },
      "source": [
        "## Download data, if it doesn't *exist*"
      ]
    },
    {
      "cell_type": "code",
      "metadata": {
        "id": "d1TWYOoI2Tnj",
        "colab_type": "code",
        "outputId": "106d73d3-37f8-475c-ac35-2774647ff47d",
        "colab": {
          "base_uri": "https://localhost:8080/",
          "height": 68
        }
      },
      "source": [
        "data_dir = \"./data\"\n",
        "if not os.path.exists(data_dir):\n",
        "    os.mkdir(data_dir)\n",
        "    !curl https://data.consumerfinance.gov/api/views/s6ew-h6mp/rows.csv?accessType=DOWNLOAD > ./data/complaints.csv"
      ],
      "execution_count": 0,
      "outputs": [
        {
          "output_type": "stream",
          "text": [
            "  % Total    % Received % Xferd  Average Speed   Time    Time     Time  Current\n",
            "                                 Dload  Upload   Total   Spent    Left  Speed\n",
            "100  727M    0  727M    0     0  7242k      0 --:--:--  0:01:42 --:--:-- 3869k\n"
          ],
          "name": "stdout"
        }
      ]
    },
    {
      "cell_type": "markdown",
      "metadata": {
        "id": "XS5CHRYDUmfW",
        "colab_type": "text"
      },
      "source": [
        "## Preprocessing\n",
        "Data load, filtering out irrelevant fields and rows. Each row in the final dataframe - complaints_df,  consists of a \"complaint\" field and an associated ground truth label = (1, -1). These ground truth labels are only used to review the performance of the labeling process, afterall the whole idea is to do without any labeled data!"
      ]
    },
    {
      "cell_type": "code",
      "metadata": {
        "id": "T7govEII2gM3",
        "colab_type": "code",
        "outputId": "1c3cbb6f-5844-4fcf-c89e-64360a3014ab",
        "colab": {
          "base_uri": "https://localhost:8080/",
          "height": 479
        }
      },
      "source": [
        "complaints = pd.read_csv(os.path.join(data_dir,'complaints.csv'), engine=’python’)\n",
        "complaints.info()\n",
        "complaints.shape"
      ],
      "execution_count": 0,
      "outputs": [
        {
          "output_type": "stream",
          "text": [
            "/usr/local/lib/python3.6/dist-packages/IPython/core/interactiveshell.py:2718: DtypeWarning: Columns (5,6,11,16) have mixed types. Specify dtype option on import or set low_memory=False.\n",
            "  interactivity=interactivity, compiler=compiler, result=result)\n"
          ],
          "name": "stderr"
        },
        {
          "output_type": "stream",
          "text": [
            "<class 'pandas.core.frame.DataFrame'>\n",
            "RangeIndex: 1326263 entries, 0 to 1326262\n",
            "Data columns (total 18 columns):\n",
            "Date received                   1326263 non-null object\n",
            "Product                         1326263 non-null object\n",
            "Sub-product                     1091097 non-null object\n",
            "Issue                           1326263 non-null object\n",
            "Sub-issue                       789715 non-null object\n",
            "Consumer complaint narrative    394548 non-null object\n",
            "Company public response         472662 non-null object\n",
            "Company                         1326263 non-null object\n",
            "State                           1305447 non-null object\n",
            "ZIP code                        1204904 non-null object\n",
            "Tags                            181562 non-null object\n",
            "Consumer consent provided?      718297 non-null object\n",
            "Submitted via                   1326263 non-null object\n",
            "Date sent to company            1326263 non-null object\n",
            "Company response to consumer    1326256 non-null object\n",
            "Timely response?                1326263 non-null object\n",
            "Consumer disputed?              768501 non-null object\n",
            "Complaint ID                    1326263 non-null int64\n",
            "dtypes: int64(1), object(17)\n",
            "memory usage: 182.1+ MB\n"
          ],
          "name": "stdout"
        },
        {
          "output_type": "execute_result",
          "data": {
            "text/plain": [
              "(1326263, 18)"
            ]
          },
          "metadata": {
            "tags": []
          },
          "execution_count": 6
        }
      ]
    },
    {
      "cell_type": "markdown",
      "metadata": {
        "id": "4gwjyL9jUz48",
        "colab_type": "text"
      },
      "source": [
        "### Subset data to include products with narrative"
      ]
    },
    {
      "cell_type": "code",
      "metadata": {
        "id": "7BcTLpTu2iV-",
        "colab_type": "code",
        "colab": {}
      },
      "source": [
        "products_w_narrative = complaints[complaints['Product'].notnull() & \n",
        "                                  complaints['Consumer complaint narrative'].notnull()]"
      ],
      "execution_count": 0,
      "outputs": []
    },
    {
      "cell_type": "code",
      "metadata": {
        "id": "aswvj9bu2mJt",
        "colab_type": "code",
        "outputId": "bf0cb065-13a0-4a31-ae63-6225ea816c98",
        "colab": {
          "base_uri": "https://localhost:8080/",
          "height": 476
        }
      },
      "source": [
        "print(products_w_narrative['Product'].unique())\n",
        "print(products_w_narrative['Product'].value_counts())"
      ],
      "execution_count": 0,
      "outputs": [
        {
          "output_type": "stream",
          "text": [
            "['Credit reporting, credit repair services, or other personal consumer reports'\n",
            " 'Debt collection' 'Credit card or prepaid card'\n",
            " 'Checking or savings account' 'Mortgage'\n",
            " 'Payday loan, title loan, or personal loan' 'Student loan'\n",
            " 'Money transfer, virtual currency, or money service'\n",
            " 'Vehicle loan or lease' 'Bank account or service' 'Credit card'\n",
            " 'Credit reporting' 'Consumer Loan' 'Money transfers' 'Payday loan'\n",
            " 'Prepaid card' 'Other financial service' 'Virtual currency']\n",
            "Credit reporting, credit repair services, or other personal consumer reports    97115\n",
            "Debt collection                                                                 88920\n",
            "Mortgage                                                                        53918\n",
            "Credit reporting                                                                31588\n",
            "Credit card or prepaid card                                                     22567\n",
            "Student loan                                                                    22305\n",
            "Credit card                                                                     18838\n",
            "Bank account or service                                                         14885\n",
            "Checking or savings account                                                     13564\n",
            "Consumer Loan                                                                    9474\n",
            "Vehicle loan or lease                                                            6014\n",
            "Money transfer, virtual currency, or money service                               5702\n",
            "Payday loan, title loan, or personal loan                                        4656\n",
            "Payday loan                                                                      1747\n",
            "Money transfers                                                                  1497\n",
            "Prepaid card                                                                     1450\n",
            "Other financial service                                                           292\n",
            "Virtual currency                                                                   16\n",
            "Name: Product, dtype: int64\n"
          ],
          "name": "stdout"
        }
      ]
    },
    {
      "cell_type": "markdown",
      "metadata": {
        "id": "SJPUhu9ucDMC",
        "colab_type": "text"
      },
      "source": [
        "### Selects two types of products - credit reporting and mortgage"
      ]
    },
    {
      "cell_type": "code",
      "metadata": {
        "id": "mGAhdow-2oT2",
        "colab_type": "code",
        "colab": {}
      },
      "source": [
        "# credit reporting only\n",
        "credit_reporting = products_w_narrative[products_w_narrative['Product'] == \n",
        "                                        'Credit reporting, ' + \n",
        "                                        'credit repair services, or other personal consumer reports']\n",
        "# mortgage only\n",
        "mortgage = products_w_narrative[products_w_narrative['Product'] == 'Mortgage']"
      ],
      "execution_count": 0,
      "outputs": []
    },
    {
      "cell_type": "code",
      "metadata": {
        "id": "UT9hYjQD2qvF",
        "colab_type": "code",
        "colab": {}
      },
      "source": [
        "credit_narrative = credit_reporting['Consumer complaint narrative'].values\n",
        "positive_labels = pd.Series(np.ones(credit_narrative.shape[0]))\n",
        "positive_df = pd.DataFrame({'complaint': credit_narrative, 'label': \n",
        "                            positive_labels})"
      ],
      "execution_count": 0,
      "outputs": []
    },
    {
      "cell_type": "code",
      "metadata": {
        "id": "Ev-bLnW02skW",
        "colab_type": "code",
        "colab": {}
      },
      "source": [
        "mortgage_narrative = mortgage['Consumer complaint narrative'].values\n",
        "negative_labels = pd.Series(np.full(mortgage_narrative.shape[0], -1))\n",
        "negative_df = pd.DataFrame({'complaint': mortgage_narrative, 'label': \n",
        "                            negative_labels})"
      ],
      "execution_count": 0,
      "outputs": []
    },
    {
      "cell_type": "markdown",
      "metadata": {
        "id": "m2MfDm0XU8H5",
        "colab_type": "text"
      },
      "source": [
        "### Combine into one dataframe, create labels \n",
        "(1 for credit reporting, -1 for mortgage)"
      ]
    },
    {
      "cell_type": "code",
      "metadata": {
        "id": "2ZZP4-on2ukd",
        "colab_type": "code",
        "outputId": "9349d49f-8aec-4329-864f-07aec83b2574",
        "colab": {
          "base_uri": "https://localhost:8080/",
          "height": 34
        }
      },
      "source": [
        "complaints_df = pd.concat([positive_df, negative_df], ignore_index=True)\n",
        "complaints_df.shape"
      ],
      "execution_count": 0,
      "outputs": [
        {
          "output_type": "execute_result",
          "data": {
            "text/plain": [
              "(151033, 2)"
            ]
          },
          "metadata": {
            "tags": []
          },
          "execution_count": 12
        }
      ]
    },
    {
      "cell_type": "code",
      "metadata": {
        "id": "6rX87qAw2wvc",
        "colab_type": "code",
        "outputId": "b3f5bf8b-c1eb-4b1a-b24e-cec3e91ef8a0",
        "colab": {
          "base_uri": "https://localhost:8080/",
          "height": 68
        }
      },
      "source": [
        "complaints_df['label'].value_counts()"
      ],
      "execution_count": 0,
      "outputs": [
        {
          "output_type": "execute_result",
          "data": {
            "text/plain": [
              " 1.0    97115\n",
              "-1.0    53918\n",
              "Name: label, dtype: int64"
            ]
          },
          "metadata": {
            "tags": []
          },
          "execution_count": 13
        }
      ]
    },
    {
      "cell_type": "markdown",
      "metadata": {
        "id": "9rJlMTGxVDPE",
        "colab_type": "text"
      },
      "source": [
        "### Split data into train, dev, test"
      ]
    },
    {
      "cell_type": "code",
      "metadata": {
        "id": "vkY-5o7D2zFk",
        "colab_type": "code",
        "colab": {}
      },
      "source": [
        "train, testval = train_test_split(complaints_df, test_size=0.2, random_state=123)\n",
        "dev, test = train_test_split(testval, test_size=0.5, random_state=123)"
      ],
      "execution_count": 0,
      "outputs": []
    },
    {
      "cell_type": "markdown",
      "metadata": {
        "id": "8Kv7_632VFL3",
        "colab_type": "text"
      },
      "source": [
        "## Create noisy labeling functions\n",
        "\n",
        "Our assumption is that we don't have the ground truth labels for our data, but instead have these noisy and possibly conflicting labels based on regular expressions."
      ]
    },
    {
      "cell_type": "markdown",
      "metadata": {
        "id": "gjA7CEoUci2C",
        "colab_type": "text"
      },
      "source": [
        "### Regular expressions that define words, phrases, actions for use in labeling functions"
      ]
    },
    {
      "cell_type": "code",
      "metadata": {
        "id": "i70mzuQ421Hr",
        "colab_type": "code",
        "colab": {}
      },
      "source": [
        "AGENCY_NAMES = r'\\bexperian\\b|\\btransunion\\b|\\bequifax\\b|\\bfcra\\b'   \n",
        "DEBT_MENTIONS = r'\\bcollector\\b|\\bdebt\\b|\\bcreditor\\b'\n",
        "ADDRESS_MENTIONS = r'\\baddress\\b'\n",
        "DESCRIPTIONS = r'\\binaccura|\\bcompromise'\n",
        "IDENTITY = r'\\bidentity'\n",
        "CREDIT_REPORT_MENTIONS = r'\\bcredit (report|agency|reporting|bureau|agencies)'              \n",
        "MORTGAGE_MENTIONS = r'\\bloan\\b|\\bmortgage\\|\\bprepayment\\b|\\bprincipal\\b|\\binterest\\b|\\bescrow\\b'\n",
        "CHECKS = r'\\bcheck'\n",
        "TAXES = r'\\btax'\n",
        "LEASE = r'\\blease'\n",
        "HOUSE_MENTIONS = r'\\bhouse\\b|\\bhome\\bcondo\\b'\n",
        "MORTGAGE_HELP_ACTIONS = r'\\bmitigat|\\bmodifi\\brefinanc'\n",
        "MORTGAGE_COMPONENTS = r'\\bequity\\b|\\bdownpayment\\b|\\bshortage\\b'\n",
        "POSITIVE_ACTIONS = r'\\bremov|\\bdispute\\b' \n",
        "INQUIRY_ACTIONS  = r'\\binquir\\b|\\berror\\b'\n",
        "NEGATIVE_ACTIONS = r'\\bpredator|\\bapprove|\\bservic|\\bappraise|\\bforeclos'  \n",
        "                                                                      \n",
        "FRAUD = r'\\bfraudulent (account|charges)'                                               \n",
        "MONEYXFER = r'\\bmoney transfer'                                                         \n",
        "CREDIT_REPORTING = r'\\b(identity has been compromise(|d)|data breaches|inquiries to bus\\\n",
        "inesses|mistakes appear in my report|reporting incorrectly|dispute(|d)|(t|T)ransunion|derog\\\n",
        "atory|experian|identity theft)'                                                             \n",
        "CREDIT_REPAIR = r'\\b(credit repair|hard inquiry|inquiries to businesses|mistakes appear\\\n",
        " in my report|reporting incorrectly)'       "
      ],
      "execution_count": 0,
      "outputs": []
    },
    {
      "cell_type": "markdown",
      "metadata": {
        "id": "rQzYfavwdWad",
        "colab_type": "text"
      },
      "source": [
        "### Labeling functions that help provide weak supervision\n",
        "\n",
        "In other words, instead of hand-labeling data to create a training set for our model, we write functions that look something like this:"
      ]
    },
    {
      "cell_type": "code",
      "metadata": {
        "id": "C0a_eu1223tT",
        "colab_type": "code",
        "colab": {}
      },
      "source": [
        "def lf_agency_names(complaint):                                                                   \n",
        "    if re.search(AGENCY_NAMES, str(complaint), re.IGNORECASE):                            \n",
        "        return 1                                                                            \n",
        "    else:                                                                                   \n",
        "        return 0            \n",
        "\n",
        "def lf_debt(complaint):                                                            \n",
        "    if re.search(DEBT_MENTIONS, str(complaint), re.IGNORECASE):                           \n",
        "        return 1                                                                            \n",
        "    else:                                                                                   \n",
        "        return 0      \n",
        "\n",
        "def lf_address(complaint):                                                            \n",
        "    if re.search(ADDRESS_MENTIONS, str(complaint), re.IGNORECASE):\n",
        "        return 1                                                                            \n",
        "    else:                                                                                   \n",
        "        return 0     \n",
        "    \n",
        "def lf_credit_report(complaint):                                                           \n",
        "    if re.search(CREDIT_REPORT_MENTIONS, str(complaint), re.IGNORECASE):                          \n",
        "        return 1                                                                            \n",
        "    else:                                                                                   \n",
        "        return 0             \n",
        "    \n",
        "def lf_credit_actions(complaint):                                                           \n",
        "    if re.search(POSITIVE_ACTIONS, str(complaint), re.IGNORECASE):                          \n",
        "        return 1                                                                            \n",
        "    else:                                                                                   \n",
        "        return 0             \n",
        "    \n",
        "def lf_mortgage(complaint):                                                                 \n",
        "    if re.search(MORTGAGE_MENTIONS, str(complaint), re.IGNORECASE):                            \n",
        "        return -1                                                                           \n",
        "    else:                                                                                   \n",
        "        return 0        \n",
        "    \n",
        "def lf_inquiry(complaint):                                                                 \n",
        "    if re.search(INQUIRY_ACTIONS, str(complaint), re.IGNORECASE):                            \n",
        "        return 1                                                                           \n",
        "    else:                                                                                   \n",
        "        return 0        \n",
        "    \n",
        "def lf_house_mentions(complaint):                                                         \n",
        "    if re.search(HOUSE_MENTIONS, str(complaint), re.IGNORECASE):                          \n",
        "        return -1                                                                           \n",
        "    else:                                                                                   \n",
        "        return 0          \n",
        "    \n",
        "def lf_mortgage_help(complaint):                                                         \n",
        "    if re.search(MORTGAGE_HELP_ACTIONS, str(complaint), re.IGNORECASE):                          \n",
        "        return -1                                                                           \n",
        "    else:                                                                                   \n",
        "        return 0          \n",
        "    \n",
        "def lf_mortgage_components(complaint):                                                         \n",
        "    if re.search(MORTGAGE_COMPONENTS, str(complaint), re.IGNORECASE):                          \n",
        "        return -1                                                                           \n",
        "    else:                                                                                   \n",
        "        return 0          \n",
        "    \n",
        "def lf_fraud(complaint):                                                                    \n",
        "    if (re.search(FRAUD, str(complaint), re.IGNORECASE)                                     \n",
        "        and not re.search(MONEYXFER, str(complaint), re.IGNORECASE)):                       \n",
        "        return 1                                                                            \n",
        "    elif (re.search(FRAUD, str(complaint), re.IGNORECASE)                                   \n",
        "          and re.search(MONEYXFER, str(complaint), re.IGNORECASE)):                         \n",
        "        return -1                                                                           \n",
        "    else:                                                                                   \n",
        "        return 0     \n",
        "    \n",
        "def lf_reporting(complaint):                                                                \n",
        "    if (re.search(CREDIT_REPORTING, str(complaint), re.IGNORECASE)                          \n",
        "        and not re.search(MONEYXFER, str(complaint), re.IGNORECASE)):                       \n",
        "        return 1                                                                            \n",
        "    elif (re.search(CREDIT_REPORTING, str(complaint), re.IGNORECASE)                        \n",
        "           and re.search(MONEYXFER, str(complaint), re.IGNORECASE)):                        \n",
        "        return -1                                                                           \n",
        "    else:                                                                                   \n",
        "        return 0     \n",
        "\n",
        "def lf_repair(complaint):                                                                   \n",
        "    if (re.search(CREDIT_REPAIR, str(complaint), re.IGNORECASE)                             \n",
        "        and not re.search(MONEYXFER, str(complaint), re.IGNORECASE)                         \n",
        "        and not re.search(CREDIT_REPORTING, str(complaint), re.IGNORECASE)                  \n",
        "       ):                                                                                   \n",
        "        return 1                                                                            \n",
        "    elif ((re.search(CREDIT_REPAIR, str(complaint), re.IGNORECASE)                          \n",
        "           and re.search(MONEYXFER, str(complaint), re.IGNORECASE))                         \n",
        "          or                                                                                \n",
        "          (re.search(CREDIT_REPAIR, str(complaint), re.IGNORECASE)                          \n",
        "           and re.search(CREDIT_REPORTING, str(complaint), re.IGNORECASE))                  \n",
        "         ):                                                                                 \n",
        "        return -1                                                                           \n",
        "    else:                                                                                   \n",
        "        return 0  \n",
        "\n",
        "def lf_credit_description(complaint):                                                                \n",
        "    if (re.search(DESCRIPTIONS, str(complaint), re.IGNORECASE)                          \n",
        "        and re.search(IDENTITY, str(complaint), re.IGNORECASE)):                       \n",
        "        return 1                                                                                                                                             \n",
        "    else:                                                                                   \n",
        "        return 0           \n",
        "    \n",
        "def lf_description_not_mortgage(complaint):                                                                \n",
        "    if (re.search(DESCRIPTIONS, str(complaint), re.IGNORECASE)                          \n",
        "        and not re.search(MORTGAGE_MENTIONS, str(complaint), re.IGNORECASE)):                       \n",
        "        return 1                                                                                                                                             \n",
        "    else:                                                                                   \n",
        "        return 0           \n",
        "    \n",
        "def lf_tax(complaint):                                                         \n",
        "    if re.search(TAXES, str(complaint), re.IGNORECASE):                          \n",
        "        return -1                                                                           \n",
        "    else:                                                                                   \n",
        "        return 0    \n",
        "    \n",
        "def lf_check(complaint):                                                         \n",
        "    if re.search(CHECKS, str(complaint), re.IGNORECASE):                          \n",
        "        return -1                                                                           \n",
        "    else:                                                                                   \n",
        "        return 0    \n",
        "    \n",
        "def lf_lease(complaint):                                                         \n",
        "    if re.search(LEASE, str(complaint), re.IGNORECASE):                          \n",
        "        return 1                                                                          \n",
        "    else:                                                                                   \n",
        "        return 0    "
      ],
      "execution_count": 0,
      "outputs": []
    },
    {
      "cell_type": "markdown",
      "metadata": {
        "id": "6_pBGXxdVTKV",
        "colab_type": "text"
      },
      "source": [
        "## Generate Snorkel objects"
      ]
    },
    {
      "cell_type": "markdown",
      "metadata": {
        "id": "X1GW0OCXVUJi",
        "colab_type": "text"
      },
      "source": [
        "### Candidates and Contexts\n",
        "\n",
        "Candidate objects in Snorkel represent objects to be classified. In this case we are interested in classifying whether a complaint narrative is positive. A complaint narrative is positive when it is related to a credit complaint. \n",
        "\n",
        "All Candidate objects point to one or more Context objects representing the raw data that they are rooted in. In this case, our candidates will each point to a single Context object representing the raw text of the complaint."
      ]
    },
    {
      "cell_type": "code",
      "metadata": {
        "id": "gjVSxCjz26NK",
        "colab_type": "code",
        "outputId": "c725d85d-65a7-4767-ed05-9d65e931d826",
        "colab": {
          "base_uri": "https://localhost:8080/",
          "height": 51
        }
      },
      "source": [
        "session = SnorkelSession()\n",
        "\n",
        "values = list(complaints_df.label.unique())\n",
        "print(values)\n",
        "\n",
        "# snorkel candidate, value if none defaults to binary (true, false)\n",
        "Narrative = candidate_subclass('Narrative', ['narrative'], values=values)\n",
        "\n",
        "# Make sure DB is cleared\n",
        "session.query(Context).delete()\n",
        "session.query(Candidate).delete()\n",
        "session.query(StableLabel).delete()"
      ],
      "execution_count": 0,
      "outputs": [
        {
          "output_type": "stream",
          "text": [
            "[1.0, -1.0]\n"
          ],
          "name": "stdout"
        },
        {
          "output_type": "execute_result",
          "data": {
            "text/plain": [
              "0"
            ]
          },
          "metadata": {
            "tags": []
          },
          "execution_count": 17
        }
      ]
    },
    {
      "cell_type": "markdown",
      "metadata": {
        "id": "DcRDtTkoViEb",
        "colab_type": "text"
      },
      "source": [
        "Once we have defined the context for each candidate, we split it into three sets :\n",
        "\n",
        "- Training set (split=0): This is the set of narratives that we will examine in order to write labeling functions for. The labeling functions that we write will be noisy and conflicting. We will resolve these conflicts using the generative model. The generative model outputs a set of probabilistic labels which we use to train the discriminative model. The discriminative model is the standard goal in machine learning that learns to generalize beyond the training set.\n",
        "\n",
        "- Development/ validation set (split=1): We will pretend that we do not have any noisy, conflicting labels for this split of the data, and it is used to help iterate the generative model training process. In later steps we also use it to test the discriminative model's (RNN in this case) performance on unseen data. \n",
        "\n",
        "- Test set (split=2): We will pretend that we do not have any noisy, conflicting labels for this split of the data, and use it to test the discriminative model's (RNN in this case) performance on unseen data   \n",
        "\n",
        "We then commit it to the database."
      ]
    },
    {
      "cell_type": "code",
      "metadata": {
        "id": "Jypxk-b_3BAJ",
        "colab_type": "code",
        "outputId": "c867c225-b593-493b-cb85-7b29c1ef1079",
        "colab": {
          "base_uri": "https://localhost:8080/",
          "height": 34
        }
      },
      "source": [
        "train_index = train.index\n",
        "train.index.str = np.asarray(str(x) for x in train.index)\n",
        "train_complaints = train.values[:, 0]\n",
        "train_labels = train.values[:, 1]\n",
        "\n",
        "for element in zip(train_index, train_complaints, train_labels):\n",
        "    split = 0\n",
        "    raw_text = RawText(stable_id=element[0], name=element[0], \n",
        "                       text=str(element[1]))\n",
        "    narrative = Narrative(narrative=raw_text, split=split)\n",
        "    session.add(narrative)\n",
        "\n",
        "dev_index = dev.index\n",
        "dev.index.str = np.asarray(str(x) for x in dev.index)\n",
        "dev_complaints = dev.values[:, 0]\n",
        "dev_labels = dev.values[:, 1]\n",
        "\n",
        "for element in zip(dev_index, dev_complaints, dev_labels):\n",
        "    split = 1\n",
        "    raw_text = RawText(stable_id=element[0], name=element[0], \n",
        "                       text=str(element[1]))\n",
        "    narrative = Narrative(narrative=raw_text, split=split)\n",
        "    session.add(narrative)\n",
        "\n",
        "test_index = test.index\n",
        "test.index.str = np.asarray(str(x) for x in test.index)\n",
        "test_complaints = test.values[:, 0]\n",
        "test_labels = test.values[:, 1]\n",
        "\n",
        "for element in zip(test_index, test_complaints, test_labels):\n",
        "    split = 2\n",
        "    raw_text = RawText(stable_id=element[0], name=element[0], \n",
        "                       text=str(element[1]))\n",
        "    narrative = Narrative(narrative=raw_text, split=split)\n",
        "    session.add(narrative)\n",
        "\n",
        "session.commit()\n",
        "\n",
        "# number of datapoints\n",
        "print(\"number of datapoints in candidate: \", session.query(Narrative).count())\n",
        "\n",
        "# load ground truth labels\n",
        "train_cand_labels = train_labels\n",
        "dev_cand_labels = dev_labels\n",
        "test_cand_labels = test_labels"
      ],
      "execution_count": 0,
      "outputs": [
        {
          "output_type": "stream",
          "text": [
            "number of datapoints in candidate:  151033\n"
          ],
          "name": "stdout"
        }
      ]
    },
    {
      "cell_type": "code",
      "metadata": {
        "id": "8--icqpq3JuM",
        "colab_type": "code",
        "outputId": "00c47a9d-3d34-405f-af87-75eb322e3cc3",
        "colab": {
          "base_uri": "https://localhost:8080/",
          "height": 34
        }
      },
      "source": [
        "# test one labeling function\n",
        "labeled = []\n",
        "for c in session.query(Narrative).filter(Narrative.split == 1).all():\n",
        "    if lf_tax(c) != 0:\n",
        "        labeled.append(c)\n",
        "print(\"Number labeled:\", len(labeled))"
      ],
      "execution_count": 0,
      "outputs": [
        {
          "output_type": "stream",
          "text": [
            "Number labeled: 1050\n"
          ],
          "name": "stdout"
        }
      ]
    },
    {
      "cell_type": "markdown",
      "metadata": {
        "id": "hpOVOJiKVoSn",
        "colab_type": "text"
      },
      "source": [
        "### Labels\n",
        "\n",
        "Next, we assign labeling functions for each of the training candidates in a sparse matrix (which will also automatically be saved to the Snorkel database), with one row for each candidate and one column for each label"
      ]
    },
    {
      "cell_type": "code",
      "metadata": {
        "id": "pQnhzeaf3nrt",
        "colab_type": "code",
        "outputId": "91396b8b-03d3-45bf-cb44-814ac64776f1",
        "colab": {
          "base_uri": "https://localhost:8080/",
          "height": 68
        }
      },
      "source": [
        "LFs = [lf_agency_names, lf_debt, lf_address, lf_credit_report, lf_credit_actions, \n",
        "       lf_inquiry, lf_mortgage, lf_house_mentions, lf_mortgage_components,\n",
        "       lf_mortgage_help, lf_fraud, lf_reporting, lf_repair,\n",
        "       lf_credit_description, lf_description_not_mortgage,\n",
        "       lf_tax, lf_check, lf_lease]\n",
        "# apply labeling functions\n",
        "labeler = LabelAnnotator(lfs = LFs)\n",
        "L_train = labeler.apply(split=0)"
      ],
      "execution_count": 0,
      "outputs": [
        {
          "output_type": "stream",
          "text": [
            "  0%|          | 25/120826 [00:00<08:22, 240.30it/s]"
          ],
          "name": "stderr"
        },
        {
          "output_type": "stream",
          "text": [
            "Clearing existing...\n",
            "Running UDF...\n"
          ],
          "name": "stdout"
        },
        {
          "output_type": "stream",
          "text": [
            "100%|██████████| 120826/120826 [07:56<00:00, 253.78it/s]\n"
          ],
          "name": "stderr"
        }
      ]
    },
    {
      "cell_type": "code",
      "metadata": {
        "id": "fCtH_AV-3scM",
        "colab_type": "code",
        "outputId": "eb52e152-140e-4453-a82b-04598421655a",
        "colab": {
          "base_uri": "https://localhost:8080/",
          "height": 394
        }
      },
      "source": [
        "# see what's going on\n",
        "print(L_train.get_candidate(session, 0))\n",
        "print(L_train.get_key(session, 0))\n",
        "print(L_train.lf_stats(session))\n"
      ],
      "execution_count": 0,
      "outputs": [
        {
          "output_type": "stream",
          "text": [
            "Narrative(Raw Text I submitted a police report with a police report number to Equifax and XXXX showing that I am victim of identity theft and Equifx is still reporting on my credit file, I had requested documentation on why they did not remove this from account and I have not yet receive anything from both party, and no resolution)\n",
            "LabelKey (lf_agency_names)\n",
            "                              j  Coverage  Overlaps  Conflicts\n",
            "lf_agency_names               0  0.281189  0.262874   0.062114\n",
            "lf_debt                       1  0.145854  0.138298   0.057877\n",
            "lf_address                    2  0.098762  0.093556   0.046877\n",
            "lf_credit_report              3  0.439864  0.397249   0.142171\n",
            "lf_credit_actions             4  0.329921  0.314444   0.109753\n",
            "lf_inquiry                    5  0.061543  0.058862   0.036019\n",
            "lf_mortgage                   6  0.352590  0.260259   0.179374\n",
            "lf_house_mentions             7  0.080579  0.072426   0.037434\n",
            "lf_mortgage_components        8  0.031823  0.030623   0.015502\n",
            "lf_mortgage_help              9  0.013747  0.012034   0.005934\n",
            "lf_fraud                     10  0.021030  0.020318   0.004089\n",
            "lf_reporting                 11  0.326469  0.319368   0.101228\n",
            "lf_repair                    12  0.027908  0.026269   0.019921\n",
            "lf_credit_description        13  0.013027  0.013027   0.002963\n",
            "lf_description_not_mortgage  14  0.077980  0.074189   0.009501\n",
            "lf_tax                       15  0.064572  0.061402   0.032468\n",
            "lf_check                     16  0.123599  0.112352   0.079983\n",
            "lf_lease                     17  0.010379  0.009700   0.005934\n"
          ],
          "name": "stdout"
        }
      ]
    },
    {
      "cell_type": "markdown",
      "metadata": {
        "id": "a6CcudVdVvxk",
        "colab_type": "text"
      },
      "source": [
        "## Training generative model\n",
        "\n",
        "\n",
        "The problem with the above labeling functions is that they're noisy, conflicting and may even overlap on certain examples. The key technical idea of Snorkel's generative modeling approach is that we can automatically model and denoise them!"
      ]
    },
    {
      "cell_type": "code",
      "metadata": {
        "id": "Bbo3wzLj5ukd",
        "colab_type": "code",
        "outputId": "8335d62c-6c02-4942-b65d-f63a8dd12b7a",
        "colab": {
          "base_uri": "https://localhost:8080/",
          "height": 34
        }
      },
      "source": [
        "# Initialize Snorkel's generative model for\n",
        "# learning the different worker accuracies.\n",
        "gen_model = GenerativeModel(lf_propensity=True)\n",
        "gen_model.train(L_train, epochs=20, decay=0.95, step_size=0.1/L_train.shape[0], \n",
        "                reg_param=1e-6)"
      ],
      "execution_count": 0,
      "outputs": [
        {
          "output_type": "stream",
          "text": [
            "Inferred cardinality: 2\n"
          ],
          "name": "stdout"
        }
      ]
    },
    {
      "cell_type": "markdown",
      "metadata": {
        "id": "7XgNEwhsV31e",
        "colab_type": "text"
      },
      "source": [
        "## Applying the generative model\n"
      ]
    },
    {
      "cell_type": "markdown",
      "metadata": {
        "id": "DiKU0A_2gjZU",
        "colab_type": "text"
      },
      "source": [
        "### Probabilistic Label Statistics\n",
        "\n",
        "We view the distribution of weak labels produced by our generative model. Note that the samples in the 0.5 bucket indicate the ones that have no LF coverage."
      ]
    },
    {
      "cell_type": "code",
      "metadata": {
        "id": "t7-pU4eS5_Na",
        "colab_type": "code",
        "outputId": "83b6396f-ba81-4779-8e9d-d9ae5e2fd675",
        "colab": {
          "base_uri": "https://localhost:8080/",
          "height": 269
        }
      },
      "source": [
        "train_marginals = gen_model.marginals(L_train)\n",
        "plt.hist(train_marginals, bins=20)\n",
        "plt.show()"
      ],
      "execution_count": 0,
      "outputs": [
        {
          "output_type": "display_data",
          "data": {
            "image/png": "[encoded data removed]",
            "text/plain": [
              "<Figure size 432x288 with 1 Axes>"
            ]
          },
          "metadata": {
            "tags": []
          }
        }
      ]
    },
    {
      "cell_type": "code",
      "metadata": {
        "id": "5tteWMMziXPx",
        "colab_type": "code",
        "outputId": "fd33e9f0-3528-49e9-e69f-85e91ccf9412",
        "colab": {
          "base_uri": "https://localhost:8080/",
          "height": 34
        }
      },
      "source": [
        "print(\"So we have \", (train_marginals == 0.5).sum(), \n",
        "      \" samples where the LFs do not provide any coverage!\")"
      ],
      "execution_count": 0,
      "outputs": [
        {
          "output_type": "stream",
          "text": [
            "So we have  10767  samples where the LFs do not provide any coverage!\n"
          ],
          "name": "stdout"
        }
      ]
    },
    {
      "cell_type": "markdown",
      "metadata": {
        "id": "gdSWOLOHV8xM",
        "colab_type": "text"
      },
      "source": [
        "### Compare learned accuracies vs empirical accuracies"
      ]
    },
    {
      "cell_type": "markdown",
      "metadata": {
        "id": "8BJFOfWVjNjf",
        "colab_type": "text"
      },
      "source": [
        "#### Learned accuracies from our generative model"
      ]
    },
    {
      "cell_type": "code",
      "metadata": {
        "id": "Wu6pQmGf8a60",
        "colab_type": "code",
        "outputId": "ffe284a0-4f3e-45a6-a876-0a2d357c5323",
        "colab": {
          "base_uri": "https://localhost:8080/",
          "height": 34
        }
      },
      "source": [
        "accuracy = gen_model.score(L_train, train_cand_labels)\n",
        "print(\"precision: {:.5f}\".format(accuracy[0]), \n",
        "      \"recall: {:.5f}\".format(accuracy[1]), \n",
        "      \"F1: {:.5f}\".format(accuracy[2]))"
      ],
      "execution_count": 0,
      "outputs": [
        {
          "output_type": "stream",
          "text": [
            "precision: 0.85767 recall: 0.90153 F1: 0.87905\n"
          ],
          "name": "stdout"
        }
      ]
    },
    {
      "cell_type": "markdown",
      "metadata": {
        "id": "rbPGL0eikcX1",
        "colab_type": "text"
      },
      "source": [
        "#### Empirical accuracies of our labeling functions - majority vote\n",
        "\n",
        "We observe that the majority vote approach does almost as well as the generative model for our use case! The labeling functions that we have defined are pretty simple but quite effective, they essentially look at certain keywords. In a realistic scenario, a labeling function that looks at the presence of certain keywords may not be as effective.  One may also derive labeling functions based on knowledge bases, distant supervision, or even crowd-source them causing it to be more noisy and imprecise in which case the generative model will more likely outperform the majority vote."
      ]
    },
    {
      "cell_type": "code",
      "metadata": {
        "id": "jAHOrwAi8wia",
        "colab_type": "code",
        "outputId": "81fee1dc-5767-49d7-f197-7ce76a9de561",
        "colab": {
          "base_uri": "https://localhost:8080/",
          "height": 68
        }
      },
      "source": [
        "# Collect the majority vote answer for each complaint\n",
        "mv = []\n",
        "for i in range(L_train.shape[0]):\n",
        "    #indicates that there is no coverage for a particular datapoint\n",
        "    if np.diff(L_train[i].indptr) != 0:   \n",
        "        c = Counter([L_train[i,j] for j in L_train[i].nonzero()[1]])\n",
        "        mv.append(c.most_common(1)[0][0])\n",
        "    else:\n",
        "        # assume that no label is equivalent to abstaining\n",
        "        mv.append(0) \n",
        "mv = np.array(mv)\n",
        "\n",
        "# Count the number correct by majority vote\n",
        "n_correct = np.sum([1 for i in range(L_train.shape[0]) if mv[i] == \n",
        "                    train_cand_labels[i]])\n",
        "print (\"Accuracy:{}\".format(n_correct / float(L_train.shape[0])))\n",
        "print (\"Number incorrect:{}\".format(L_train.shape[0] - n_correct))\n",
        "\n",
        "# Compute and return precision, recall\n",
        "tp = (0.5 * (mv * train_cand_labels + 1))[mv == 1].sum()\n",
        "pred_pos = mv[mv == 1].sum()\n",
        "p = tp / float(pred_pos) if pred_pos > 0 else 0.0\n",
        "pos = train_cand_labels[train_cand_labels == 1].sum()\n",
        "r = tp / float(pos) if pos > 0 else 0.0\n",
        "\n",
        "# Compute general F-beta score\n",
        "beta=1\n",
        "if p + r > 0:\n",
        "    f_beta = (1 + beta**2) * ((p * r) / (((beta**2) * p) + r))\n",
        "else:\n",
        "    f_beta = 0.0\n",
        "\n",
        "print(\"precision: {:.5f}\".format(p), \n",
        "      \"recall: {:.5f}\".format(r), \n",
        "      \"F1: {:.5f}\".format(f_beta))\n"
      ],
      "execution_count": 0,
      "outputs": [
        {
          "output_type": "stream",
          "text": [
            "Accuracy:0.8069206958767152\n",
            "Number incorrect:23329\n",
            "precision: 0.87492 recall: 0.89404 F1: 0.88438\n"
          ],
          "name": "stdout"
        }
      ]
    },
    {
      "cell_type": "markdown",
      "metadata": {
        "id": "Ot9U8G1jWEjO",
        "colab_type": "text"
      },
      "source": [
        "#### Performance on dev set\n",
        "\n",
        "We can also get a more detailed score (true positives, false positives, true negatives, false negatives) on the dev set and iterate on the generative training process if we need to"
      ]
    },
    {
      "cell_type": "code",
      "metadata": {
        "id": "SFUbHlys9M4x",
        "colab_type": "code",
        "outputId": "658bc246-843a-459b-b254-ce4856771cf7",
        "colab": {
          "base_uri": "https://localhost:8080/",
          "height": 272
        }
      },
      "source": [
        "L_dev = labeler.apply(split=1)\n",
        "tp, fp, tn, fn = gen_model.error_analysis(session, L_dev, dev_cand_labels)"
      ],
      "execution_count": 0,
      "outputs": [
        {
          "output_type": "stream",
          "text": [
            "Clearing existing...\n"
          ],
          "name": "stdout"
        },
        {
          "output_type": "stream",
          "text": [
            "  0%|          | 25/15103 [00:00<01:01, 246.80it/s]"
          ],
          "name": "stderr"
        },
        {
          "output_type": "stream",
          "text": [
            "Running UDF...\n"
          ],
          "name": "stdout"
        },
        {
          "output_type": "stream",
          "text": [
            "100%|██████████| 15103/15103 [00:59<00:00, 254.33it/s]\n"
          ],
          "name": "stderr"
        },
        {
          "output_type": "stream",
          "text": [
            "========================================\n",
            "Scores (Un-adjusted)\n",
            "========================================\n",
            "Pos. class accuracy: 0.902\n",
            "Neg. class accuracy: 0.733\n",
            "Precision            0.861\n",
            "Recall               0.902\n",
            "F1                   0.881\n",
            "----------------------------------------\n",
            "TP: 8807 | FP: 1425 | TN: 3912 | FN: 959\n",
            "========================================\n",
            "\n"
          ],
          "name": "stdout"
        }
      ]
    },
    {
      "cell_type": "markdown",
      "metadata": {
        "id": "j1w-dKHZ8TMF",
        "colab_type": "text"
      },
      "source": [
        "Saving the predictions of the generative model on the train set back to the database for future use"
      ]
    },
    {
      "cell_type": "code",
      "metadata": {
        "id": "8yNNLBQ89vVZ",
        "colab_type": "code",
        "outputId": "f8e75a50-a92b-409d-ba34-146730f8c3c7",
        "colab": {
          "base_uri": "https://localhost:8080/",
          "height": 34
        }
      },
      "source": [
        "save_marginals(session, L_train, train_marginals)"
      ],
      "execution_count": 0,
      "outputs": [
        {
          "output_type": "stream",
          "text": [
            "Saved 120826 marginals\n"
          ],
          "name": "stdout"
        }
      ]
    },
    {
      "cell_type": "markdown",
      "metadata": {
        "id": "gEUbvftvWOII",
        "colab_type": "text"
      },
      "source": [
        "## Training a *noise-aware* discriminative model\n",
        "\n",
        "In this step we set up a noise-aware discriminative model in TensorFlow and see how close we come to the fully supervised version!"
      ]
    },
    {
      "cell_type": "markdown",
      "metadata": {
        "id": "GKSfYJpknSCL",
        "colab_type": "text"
      },
      "source": [
        "### First, load the candidates"
      ]
    },
    {
      "cell_type": "code",
      "metadata": {
        "id": "PO3eCdQp924i",
        "colab_type": "code",
        "colab": {}
      },
      "source": [
        "train_cands = session.query(Narrative).filter(Narrative.split == 0).order_by(Narrative.id).all()\n",
        "dev_cands   = session.query(Narrative).filter(Narrative.split == 1).order_by(Narrative.id).all()\n",
        "test_cands  = session.query(Narrative).filter(Narrative.split == 2).order_by(Narrative.id).all()\n"
      ],
      "execution_count": 0,
      "outputs": []
    },
    {
      "cell_type": "markdown",
      "metadata": {
        "id": "msbrZQc_noPo",
        "colab_type": "text"
      },
      "source": [
        "### Train model using RNN"
      ]
    },
    {
      "cell_type": "markdown",
      "metadata": {
        "id": "RSAjjnerWX6U",
        "colab_type": "text"
      },
      "source": [
        "We decided to leverage Snorkel's built-in discriminative classifier and made some custom changes to work with our example. \n",
        "\n",
        "Note, how the number of training samples below are lower than what's present in the training set, it excludes samples where there was no LF coverage, that is it trains on train_marginals.shape[0] - (train_marginals == 0.5).sum() samples"
      ]
    },
    {
      "cell_type": "code",
      "metadata": {
        "id": "zvoqgKfq932D",
        "colab_type": "code",
        "outputId": "77e5dd90-5d76-44ba-f34b-bb367c8f00b2",
        "colab": {
          "base_uri": "https://localhost:8080/",
          "height": 391
        }
      },
      "source": [
        "train_kwargs = {\n",
        "    'lr':         0.01,\n",
        "    'dim':        100,\n",
        "    'n_epochs':   10,\n",
        "    'dropout':    0.2,\n",
        "    'print_freq': 1,\n",
        "    'seed': 123,\n",
        "    'batch_size': 200,\n",
        "    'max_sentence_length': 512,\n",
        "    'vocab_size': 5000\n",
        "}\n",
        "\n",
        "lstm = TextRNN(seed=123, cardinality=Narrative.cardinality)\n",
        "# Note: Y_train are the marginals but Y_dev are the gold/ ground truth labels\n",
        "lstm.train(X_train=train_cands, Y_train=train_marginals, X_dev=dev_cands, \n",
        "           Y_dev=dev_cand_labels, **train_kwargs)"
      ],
      "execution_count": 0,
      "outputs": [
        {
          "output_type": "stream",
          "text": [
            "max sentence len in training data:  5542\n",
            "but capped to:  512\n",
            "And also curtailing warning(s) related to checking individual max sentence lengths in each narrative\n",
            "currrent vocab size is:  169961\n",
            "but capped to:  5000\n",
            "[TextRNN] Training model\n",
            "[TextRNN] n_train=110059  #epochs=10  batch size=200\n",
            "[TextRNN] Epoch 0 (482.25s)\tAverage loss=0.436782\tDev F1=91.20\n",
            "[TextRNN] Epoch 1 (993.09s)\tAverage loss=0.398813\tDev F1=90.71\n",
            "[TextRNN] Epoch 2 (1504.42s)\tAverage loss=0.395390\tDev F1=90.99\n",
            "[TextRNN] Epoch 3 (2015.75s)\tAverage loss=0.393697\tDev F1=90.93\n",
            "[TextRNN] Epoch 4 (2526.20s)\tAverage loss=0.393136\tDev F1=91.04\n",
            "[TextRNN] Epoch 5 (3035.52s)\tAverage loss=0.392181\tDev F1=91.31\n",
            "[TextRNN] Epoch 6 (3544.14s)\tAverage loss=0.391633\tDev F1=90.55\n",
            "[TextRNN] Epoch 7 (4047.74s)\tAverage loss=0.391467\tDev F1=90.62\n",
            "[TextRNN] Epoch 8 (4552.18s)\tAverage loss=0.391725\tDev F1=91.56\n",
            "[TextRNN] Model saved as <TextRNN>\n",
            "[TextRNN] Epoch 9 (5061.15s)\tAverage loss=0.391015\tDev F1=91.18\n",
            "[TextRNN] Training done (5088.63s)\n",
            "currrent vocab size is:  169961\n",
            "but capped to:  5000\n",
            "[TextRNN] Loaded model <TextRNN>\n"
          ],
          "name": "stdout"
        }
      ]
    },
    {
      "cell_type": "markdown",
      "metadata": {
        "id": "u-wA6gEfWhl1",
        "colab_type": "text"
      },
      "source": [
        "### Accuracies on dev and test datasets"
      ]
    },
    {
      "cell_type": "code",
      "metadata": {
        "id": "sZBYLyyW-LdP",
        "colab_type": "code",
        "outputId": "4034f937-8ca4-460c-c9f7-f111fc8a294d",
        "colab": {
          "base_uri": "https://localhost:8080/",
          "height": 34
        }
      },
      "source": [
        "accuracy_dev = lstm.score(dev_cands, dev_cand_labels, batch_size=200)\n",
        "print(\"precision: {:.5f}\".format(accuracy_dev[0]), \n",
        "      \"recall: {:.5f}\".format(accuracy_dev[1]), \n",
        "      \"F1: {:.5f}\".format(accuracy_dev[2]))"
      ],
      "execution_count": 0,
      "outputs": [
        {
          "output_type": "stream",
          "text": [
            "precision: 0.87106 recall: 0.96498 F1: 0.91562\n"
          ],
          "name": "stdout"
        }
      ]
    },
    {
      "cell_type": "code",
      "metadata": {
        "id": "TlC3vfgA-Nse",
        "colab_type": "code",
        "outputId": "507644fc-8620-4a48-b73f-0c9da93ca14e",
        "colab": {
          "base_uri": "https://localhost:8080/",
          "height": 34
        }
      },
      "source": [
        "accuracy_test = lstm.score(test_cands, test_cand_labels, batch_size=200)\n",
        "print(\"precision: {:.5f}\".format(accuracy_test[0]), \n",
        "      \"recall: {:.5f}\".format(accuracy_test[1]), \n",
        "      \"F1: {:.5f}\".format(accuracy_test[2]))"
      ],
      "execution_count": 0,
      "outputs": [
        {
          "output_type": "stream",
          "text": [
            "precision: 0.87058 recall: 0.96466 F1: 0.91521\n"
          ],
          "name": "stdout"
        }
      ]
    }
  ]
}